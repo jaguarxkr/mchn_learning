{
 "cells": [
  {
   "cell_type": "code",
   "execution_count": 8,
   "metadata": {},
   "outputs": [
    {
     "name": "stdout",
     "output_type": "stream",
     "text": [
      "Test-Size:  40.0 % Result:  0.833333333333\n",
      "Test-Size:  30.0 % Result:  0.851851851852\n",
      "Test-Size:  20.0 % Result:  0.851851851852\n",
      "Test-Size:  10.0 % Result:  0.851851851852\n"
     ]
    }
   ],
   "source": [
    "import pandas as pd\n",
    "import math\n",
    "import numpy as np\n",
    "import operator\n",
    "from sklearn.model_selection import train_test_split\n",
    "from sklearn.ensemble import RandomForestClassifier\n",
    "\n",
    "def load_dataset():\n",
    "    dataset = pd.read_csv('heart.dat', header=None).values\n",
    "    return dataset\n",
    "# разделение датасета на тестовую и обучающую выборку\n",
    "def split_dataset(dataset,test_size):\n",
    "    attr = dataset[:, 0:-1] # атрибуты\n",
    "    heart_class =  (dataset[:, -1]).astype(np.int64, copy=False) # классы  \n",
    "    data_train, data_test, class_train, class_test = train_test_split(attr, heart_class, test_size=test_size, random_state=55)\n",
    "    return data_train, class_train, data_test, class_test\n",
    "\n",
    "test_sizes=[0.4, 0.3, 0.2, 0.1]\n",
    "dataset=load_dataset()\n",
    "for test_size in test_sizes:\n",
    "    data_train, class_train,data_test, class_test = split_dataset(dataset,test_size)\n",
    "    rfc = RandomForestClassifier(n_estimators=100)\n",
    "    rfc.fit(data_train, class_train)\n",
    "    print('Test-Size: ',test_size*100, '% Result: ', rfc.score(data_test, class_test))"
   ]
  },
  {
   "cell_type": "code",
   "execution_count": null,
   "metadata": {
    "collapsed": true
   },
   "outputs": [],
   "source": []
  }
 ],
 "metadata": {
  "kernelspec": {
   "display_name": "Python 3",
   "language": "python",
   "name": "python3"
  },
  "language_info": {
   "codemirror_mode": {
    "name": "ipython",
    "version": 3
   },
   "file_extension": ".py",
   "mimetype": "text/x-python",
   "name": "python",
   "nbconvert_exporter": "python",
   "pygments_lexer": "ipython3",
   "version": "3.6.1"
  }
 },
 "nbformat": 4,
 "nbformat_minor": 2
}
