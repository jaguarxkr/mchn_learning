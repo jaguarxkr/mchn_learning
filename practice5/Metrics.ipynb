{
 "cells": [
  {
   "cell_type": "code",
   "execution_count": 63,
   "metadata": {},
   "outputs": [
    {
     "name": "stdout",
     "output_type": "stream",
     "text": [
      "Accuracy for GaussianNB: 0.841 (0.037)\n",
      "Accuracy for LDA: 0.833 (0.034)\n"
     ]
    }
   ],
   "source": [
    "from sklearn.naive_bayes import GaussianNB\n",
    "from sklearn.discriminant_analysis import LinearDiscriminantAnalysis as LDA\n",
    "import numpy as np\n",
    "from sklearn.model_selection import cross_val_score\n",
    "\n",
    "# чтение данных\n",
    "dataset = np.loadtxt(open(\"heart.dat\",\"r\"), delimiter=\",\", skiprows=0)\n",
    "X = dataset[:, 0 : -1] # атрибуты\n",
    "y =  (dataset[:, -1]).astype(np.int64, copy=False) # классы \n",
    "kFold=cross_validation.KFold(n=len(X),n_folds=10, random_state=7)\n",
    "\n",
    "#metric Accuracy for GaussianNB and LDA\n",
    "gnb = GaussianNB()\n",
    "scores = cross_val_score(gnb, X, y, cv=kFold, scoring='accuracy')\n",
    "print(\"Accuracy for GaussianNB: %0.3f (%0.3f)\" % (scores.mean(), scores.std() ))\n",
    "\n",
    "lda=LDA()\n",
    "scores = cross_val_score(lda, X, y, cv=kFold, scoring='accuracy')\n",
    "print(\"Accuracy for LDA: %0.3f (%0.3f)\" % (scores.mean(), scores.std() ))\n",
    "\n"
   ]
  },
  {
   "cell_type": "code",
   "execution_count": 64,
   "metadata": {},
   "outputs": [
    {
     "name": "stdout",
     "output_type": "stream",
     "text": [
      "log_loss for GaussianNB: -0.605 (0.203)\n",
      "log_loss for LDA: -0.408 (0.110)\n"
     ]
    }
   ],
   "source": [
    "from sklearn.preprocessing import label_binarize\n",
    "#from classes[1,2] invert to classes[0,1]\n",
    "for i in range(len(y)):\n",
    "    y[i]=y[i]-1\n",
    "\n",
    "\n",
    "#metric Logarithmic Loss for GaussianNB and LDA\n",
    "scores = cross_validation.cross_val_score(gnb, X, y, cv=kFold, scoring='neg_log_loss')\n",
    "print(\"log_loss for GaussianNB: %0.3f (%0.3f)\" % (scores.mean(), scores.std() ))\n",
    "\n",
    "scores = cross_validation.cross_val_score(lda, X, y, cv=kFold, scoring='neg_log_loss')\n",
    "print(\"log_loss for LDA: %0.3f (%0.3f)\" % (scores.mean(), scores.std() ))"
   ]
  },
  {
   "cell_type": "code",
   "execution_count": 68,
   "metadata": {},
   "outputs": [
    {
     "name": "stdout",
     "output_type": "stream",
     "text": [
      "auc for GaussianNB: 0.907 (0.043)\n",
      "auc for LDA: 0.910 (0.043)\n"
     ]
    }
   ],
   "source": [
    "#metric ROC_auc for GaussianNB and LDA\n",
    "\n",
    "scores = cross_validation.cross_val_score(gnb, X, y, cv=kFold, scoring='roc_auc')\n",
    "print(\"auc for GaussianNB: %0.3f (%0.3f)\" % (scores.mean(), scores.std() ))\n",
    "\n",
    "scores = cross_validation.cross_val_score(lda, X, y, cv=kFold, scoring='roc_auc')\n",
    "print(\"auc for LDA: %0.3f (%0.3f)\" % (scores.mean(), scores.std() ))"
   ]
  },
  {
   "cell_type": "code",
   "execution_count": 74,
   "metadata": {},
   "outputs": [
    {
     "name": "stdout",
     "output_type": "stream",
     "text": [
      "confusion matrix for GaussianNB\n",
      "[[39  8]\n",
      " [ 6 28]]\n",
      "confusion matrix for LDA\n",
      "[[40  7]\n",
      " [ 7 27]]\n"
     ]
    }
   ],
   "source": [
    "#metric confusion matrix for GaussianNB and LDA\n",
    "from sklearn.metrics import confusion_matrix\n",
    "X_train, X_test, Y_train, Y_test = cross_validation.train_test_split(X, y, test_size=0.3, random_state=7)\n",
    "\n",
    "\n",
    "gnb.fit(X_train, Y_train)\n",
    "gnb_predicted = gnb.predict(X_test)\n",
    "gnb_matrix = confusion_matrix(Y_test, gnb_predicted)\n",
    "print(\"confusion matrix for GaussianNB\")\n",
    "print(gnb_matrix)\n",
    "\n",
    "lda.fit(X_train,Y_train)\n",
    "lda_predicted=lda.predict(X_test)\n",
    "lda_matrix=confusion_matrix(Y_test,lda_predicted)\n",
    "print(\"confusion matrix for LDA\")\n",
    "print(lda_matrix)"
   ]
  },
  {
   "cell_type": "code",
   "execution_count": 78,
   "metadata": {},
   "outputs": [
    {
     "name": "stdout",
     "output_type": "stream",
     "text": [
      "classification report for GaussianNB\n",
      "             precision    recall  f1-score   support\n",
      "\n",
      "          0       0.87      0.83      0.85        47\n",
      "          1       0.78      0.82      0.80        34\n",
      "\n",
      "avg / total       0.83      0.83      0.83        81\n",
      "\n",
      "classification report for LDA\n",
      "             precision    recall  f1-score   support\n",
      "\n",
      "          0       0.85      0.85      0.85        47\n",
      "          1       0.79      0.79      0.79        34\n",
      "\n",
      "avg / total       0.83      0.83      0.83        81\n",
      "\n"
     ]
    }
   ],
   "source": [
    "#metric classification report for GaussianNB and LDA\n",
    "from sklearn.metrics import classification_report\n",
    "gnb_report=classification_report(Y_test,gnb_predicted)\n",
    "print('classification report for GaussianNB')\n",
    "print(gnb_report)\n",
    "\n",
    "\n",
    "lda_report=classification_report(Y_test,lda_predicted)\n",
    "print('classification report for LDA')\n",
    "print(lda_report)\n"
   ]
  },
  {
   "cell_type": "code",
   "execution_count": null,
   "metadata": {
    "collapsed": true
   },
   "outputs": [],
   "source": []
  }
 ],
 "metadata": {
  "kernelspec": {
   "display_name": "Python 3",
   "language": "python",
   "name": "python3"
  },
  "language_info": {
   "codemirror_mode": {
    "name": "ipython",
    "version": 3
   },
   "file_extension": ".py",
   "mimetype": "text/x-python",
   "name": "python",
   "nbconvert_exporter": "python",
   "pygments_lexer": "ipython3",
   "version": "3.6.1"
  }
 },
 "nbformat": 4,
 "nbformat_minor": 2
}
