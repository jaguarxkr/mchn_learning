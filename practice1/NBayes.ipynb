{
 "cells": [
  {
   "cell_type": "code",
   "execution_count": 29,
   "metadata": {},
   "outputs": [
    {
     "name": "stdout",
     "output_type": "stream",
     "text": [
      "Naive Bayes library algo Result:  0.83950617284\n",
      "Naive Bayes algo Result:  0.83950617284\n"
     ]
    }
   ],
   "source": [
    "from sklearn.naive_bayes import GaussianNB\n",
    "import pandas as pd\n",
    "import math\n",
    "import numpy as np\n",
    "import operator\n",
    "from sklearn.model_selection import train_test_split\n",
    "from sklearn.neighbors import KNeighborsClassifier\n",
    "from collections import Counter\n",
    "    \n",
    "# разделение датасета на тестовую и обучающую выборку\n",
    "def split_dataset(test_size):\n",
    "    dataset = pd.read_csv('heart.dat', header=None).values\n",
    "    attr = dataset[:, 0:-1] # атрибуты\n",
    "    heart_class =  (dataset[:, -1]).astype(np.int64, copy=False) # классы  \n",
    "    data_train, data_test, class_train, class_test = train_test_split(attr, heart_class, test_size=test_size, random_state=55)\n",
    "    return data_train, class_train, data_test, class_test\n",
    "###############################################data########################\n",
    "\n",
    "###############################################nbayesfunctions#####################\n",
    "\n",
    "#разделение данных по классам\n",
    "def get_subsequences_by_classes(data_train,class_train):\n",
    "    d={}\n",
    "    class_train_set=set(class_train)\n",
    "    for i in class_train_set:\n",
    "        d[i]=[]\n",
    "    for i in range(len(data_train)):\n",
    "        d[class_train[i]].append(data_train[i])     \n",
    "    return d\n",
    "\n",
    "#получение среднего значения\n",
    "def get_y(arr):\n",
    "    return sum(arr)/len(arr)\n",
    "\n",
    "#получение дисперсии\n",
    "def get_disp(arr):\n",
    "    res=0.0\n",
    "    y=get_y(arr)\n",
    "    for i in arr:\n",
    "        res+=((i-y)**2)\n",
    "    return ((res/float(len(arr)-1.0))**0.5)\n",
    "\n",
    "\n",
    "#обучение классификатора\n",
    "def train_classifier(data_train,class_train):\n",
    "    D=get_subsequences_by_classes(data_train,class_train)\n",
    "    results={}\n",
    "    for class_name,class_elements in D.items():\n",
    "        results[class_name]=[(get_y(attribute),get_disp(attribute)) for attribute in zip(*class_elements)]\n",
    "    return results\n",
    "\n",
    "# вычисление f(xj|y,disp)\n",
    "def f(x, y, disp):\n",
    "    if disp == 0.0:\n",
    "        disp += 0.000001\n",
    "    return (1. / (math.sqrt(2. * math.pi) * disp)) * math.exp(-(math.pow(x - y, 2.) / (2. * math.pow(disp, 2.))))\n",
    "\n",
    "# вычисление P(ci)\n",
    "def p(summaries, instance_attr):\n",
    "    probabilities = {}\n",
    "    for class_name, class_summaries in summaries.items():\n",
    "        probabilities[class_name] = 1.0\n",
    "        for i in range(len(class_summaries)):\n",
    "            y, disp = class_summaries[i]\n",
    "            probabilities[class_name] *= f(instance_attr[i], y, disp)\n",
    "    return probabilities\n",
    "  \n",
    "# тест-е одного объекта\n",
    "def test_one(train_results,dt):\n",
    "    probabilities = p(train_results, dt)\n",
    "    return max(probabilities.items(),key=operator.itemgetter(1))[0]\n",
    "    \n",
    "# тест-е классификатора\n",
    "def test_classifier(train_results,data_test,class_test):\n",
    "    score=0.0\n",
    "    predicts=[(test_one(train_results,dt)) for dt in data_test]\n",
    "    score =sum( [i == j for i, j in zip(predicts, class_test)])\n",
    "    return score/float(len(predicts))    \n",
    "        \n",
    "        \n",
    "    \n",
    "###############################################nbayesfuncntion#####################\n",
    "\n",
    "\n",
    "\n",
    "data_train, class_train,data_test, class_test = split_dataset(0.3)\n",
    "gnb = GaussianNB()\n",
    "gnb.fit(data_train, class_train)\n",
    "print('Naive Bayes library algo', 'Result: ', gnb.score(data_test, class_test))\n",
    "\n",
    "cl_training_results=train_classifier(data_train,class_train)\n",
    "cl_testing_results=test_classifier(cl_training_results,data_test,class_test)\n",
    "print('Naive Bayes algo', 'Result: ', cl_testing_results)\n",
    "\n",
    "\n",
    "\n",
    "\n",
    "\n",
    "\n"
   ]
  },
  {
   "cell_type": "code",
   "execution_count": null,
   "metadata": {
    "collapsed": true
   },
   "outputs": [],
   "source": []
  },
  {
   "cell_type": "code",
   "execution_count": null,
   "metadata": {
    "collapsed": true
   },
   "outputs": [],
   "source": []
  },
  {
   "cell_type": "code",
   "execution_count": null,
   "metadata": {
    "collapsed": true
   },
   "outputs": [],
   "source": []
  }
 ],
 "metadata": {
  "kernelspec": {
   "display_name": "Python 3",
   "language": "python",
   "name": "python3"
  },
  "language_info": {
   "codemirror_mode": {
    "name": "ipython",
    "version": 3
   },
   "file_extension": ".py",
   "mimetype": "text/x-python",
   "name": "python",
   "nbconvert_exporter": "python",
   "pygments_lexer": "ipython3",
   "version": "3.6.1"
  }
 },
 "nbformat": 4,
 "nbformat_minor": 2
}
