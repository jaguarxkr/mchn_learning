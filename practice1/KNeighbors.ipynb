{
 "cells": [
  {
   "cell_type": "code",
   "execution_count": 14,
   "metadata": {},
   "outputs": [
    {
     "name": "stdout",
     "output_type": "stream",
     "text": [
      "KNeighborsClassifier library algo Result:  0.679012345679\n",
      "KNeighborsClassifier algo Result:  0.666666666667\n"
     ]
    }
   ],
   "source": [
    "from sklearn.naive_bayes import GaussianNB\n",
    "import pandas as pd\n",
    "import math\n",
    "import numpy as np\n",
    "import operator\n",
    "from sklearn.model_selection import train_test_split\n",
    "from sklearn.neighbors import KNeighborsClassifier\n",
    "from collections import Counter\n",
    "    \n",
    "# разделение датасета на тестовую и обучающую выборку\n",
    "def split_dataset(test_size):\n",
    "    dataset = pd.read_csv('heart.dat', header=None).values\n",
    "    attr = dataset[:, 0:-1] # атрибуты\n",
    "    heart_class =  (dataset[:, -1]).astype(np.int64, copy=False) # классы  \n",
    "    data_train, data_test, class_train, class_test = train_test_split(attr, heart_class, test_size=test_size, random_state=55)\n",
    "    return data_train, class_train, data_test, class_test\n",
    "###############################################data########################\n",
    "###############################################KNearestNeighborClassifier##########\n",
    "\n",
    "#определение расстояния Евклида\n",
    "def dist(instance1, instance2):\n",
    "    squares = [(i - j) ** 2.0 for i, j in zip(instance1, instance2)]\n",
    "    return ((sum(squares))**0.5)\n",
    " \n",
    "# определение самого распространенного класса среди соседей\n",
    "def get_response(instance, data_train, class_train, k):\n",
    "    distances = []\n",
    "    for i in data_train:\n",
    "        distances.append(dist(instance, i))\n",
    "    distances = tuple(zip(distances, class_train))\n",
    "    neigbours=sorted(distances, key=operator.itemgetter(0))[:k]\n",
    "    return Counter(neigbours).most_common()[0][0][1]\n",
    "\n",
    "\n",
    "# классификация тестовой выборки\n",
    "def p2(data_train, class_train, data_test, k):\n",
    "    predictions=[(get_response(i, data_train, class_train, k)) for i in data_test]\n",
    "    return predictions\n",
    "\n",
    "# тест-е классификатора\n",
    "def test_classifier2(data_train, class_train, data_test, class_test, k):\n",
    "    predictions = p2(data_train, class_train, data_test, k)\n",
    "    y = [i == j for i, j in zip(class_test, predictions)]\n",
    "    return sum(y) / len(y)\n",
    "\n",
    "###############################################KNearestNeighborClassifier########## \n",
    "neighbors_count=13\n",
    "data_train, class_train,data_test, class_test = split_dataset(0.3)\n",
    "knc = KNeighborsClassifier(n_neighbors=neighbors_count)\n",
    "knc.fit(data_train, class_train)\n",
    "print('KNeighborsClassifier library algo', 'Result: ', knc.score(data_test, class_test))\n",
    "cl2_testing_results=test_classifier2(data_train, class_train, data_test, class_test, neighbors_count)\n",
    "print('KNeighborsClassifier algo', 'Result: ', cl2_testing_results)\n",
    " "
   ]
  },
  {
   "cell_type": "code",
   "execution_count": null,
   "metadata": {
    "collapsed": true
   },
   "outputs": [],
   "source": []
  }
 ],
 "metadata": {
  "kernelspec": {
   "display_name": "Python 3",
   "language": "python",
   "name": "python3"
  },
  "language_info": {
   "codemirror_mode": {
    "name": "ipython",
    "version": 3
   },
   "file_extension": ".py",
   "mimetype": "text/x-python",
   "name": "python",
   "nbconvert_exporter": "python",
   "pygments_lexer": "ipython3",
   "version": "3.6.1"
  }
 },
 "nbformat": 4,
 "nbformat_minor": 2
}
